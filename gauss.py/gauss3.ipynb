{
  "metadata": {
    "language_info": {
      "codemirror_mode": {
        "name": "python",
        "version": 3
      },
      "file_extension": ".py",
      "mimetype": "text/x-python",
      "name": "python",
      "nbconvert_exporter": "python",
      "pygments_lexer": "ipython3",
      "version": "3.8"
    },
    "kernelspec": {
      "name": "python",
      "display_name": "Python (Pyodide)",
      "language": "python"
    }
  },
  "nbformat_minor": 4,
  "nbformat": 4,
  "cells": [
    {
      "cell_type": "code",
      "source": "import numpy as np\nfrom numpy import array\nfrom numpy.linalg import norm, det\nfrom numpy.linalg import solve as solve_out_of_the_box\nfrom numpy.random import uniform\nfrom numpy import vectorize\nfrom operator import add\n\n\ndef multiply(x, a):\n    return x * a\n\ndef vect_mult():\n    return vectorize(multiply)\n\ndef gauss(a, b):\n    ab = np.concatenate((a, np.array([b]).T), axis=1) # concatenate заодно и скопирует \n    d = len(ab)  # размер по старшему измерению\n    for i in range(d):\n        j = i\n        while j < len(a[i]) and ab[i][j] == 0:\n            j += 1\n        if j == len(a[i]):\n            continue\n        r = vectorize(multiply)\n        ab[i] = r (ab[i], 1/ab[i][j])\n        for k in range(i+1, d):\n            ab[k] = ab[k] - ab[k][j]*ab[i]\n       \n    #проверка на совместимость \n    for i in range(d):            \n        nonzero_r = False\n        for j in range(len(a[i])):\n            if abs(ab[i][j]) > 10**(-10):\n                nonzero_r = True\n        if nonzero_r == False and abs(ab[i][-1]) > 10**(-10):\n            return 'решений нет'\n    \n    solution = [0]*len(ab)\n    for i in range(len(ab)-1, -1, -1):\n        res = ab[i][-1]\n        for j in range(len(ab[i])-2, i-1, -1):\n            res -= ab[i][j]*solution[j]\n        if ab[i][i] != 0:\n            solution[i] = res / ab[i][i]\n    return solution\n\nN=100\nSMALL = 1e-5\n\ndef test_error(solver_function):\n    # Сгенерируем хорошо обусловленную систему\n    while True:\n        a = uniform(0.0, 1.0, (N, N))\n        b = uniform(0.0, 1.0, (N,  ))\n\n        d = det(a)\n        if abs(d) <= SMALL:  # Определитель маленький — плохо\n            # print(f\"det: {d}\")\n            continue  # Попробуем ещё\n        if d < 0.0:  # Отрицательный — поменяем знак\n            # print(f\"det: {d}\")\n            a = -a\n\n        try:\n            oob_solution = solve_out_of_the_box(a, b)\n        except Exception as e:  # Всё-таки система плохая\n            # print(f\"exc: {e}\")\n            continue  # Попробуем ещё\n\n        sb = a @ oob_solution\n        if norm(sb - b, ord=1) > SMALL:\n            # print(\"Bad solution...\")\n            continue  # Всё же не очень система получилась =)\n        \n        break # Всё, считаем, что мы случайно сгенерировали хорошую систему\n\n    tested_solution = solver_function(a, b)\n    return norm(tested_solution - oob_solution, ord=1)\n\ntest_error(gauss)\n ",
      "metadata": {
        "trusted": true
      },
      "execution_count": 10,
      "outputs": [
        {
          "execution_count": 10,
          "output_type": "execute_result",
          "data": {
            "text/plain": "2.524071150656823e-10"
          },
          "metadata": {}
        }
      ]
    },
    {
      "cell_type": "code",
      "source": "",
      "metadata": {},
      "execution_count": null,
      "outputs": []
    }
  ]
}